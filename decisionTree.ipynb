{
 "cells": [
  {
   "cell_type": "markdown",
   "metadata": {},
   "source": [
    "## Import all libraries"
   ]
  },
  {
   "cell_type": "code",
   "execution_count": 1,
   "metadata": {},
   "outputs": [],
   "source": [
    "import pandas as pd\n",
    "import numpy as np\n",
    "import matplotlib.pyplot as plt\n",
    "import seaborn as sns\n",
    "%matplotlib inline\n",
    "\n",
    "import random\n",
    "from pprint import pprint"
   ]
  },
  {
   "cell_type": "markdown",
   "metadata": {},
   "source": [
    "## Read data"
   ]
  },
  {
   "cell_type": "code",
   "execution_count": 2,
   "metadata": {},
   "outputs": [],
   "source": [
    "df = pd.read_csv('features.csv')"
   ]
  },
  {
   "cell_type": "code",
   "execution_count": 3,
   "metadata": {},
   "outputs": [
    {
     "name": "stdout",
     "output_type": "stream",
     "text": [
      "521\n"
     ]
    }
   ],
   "source": [
    "# df = df.rename(columns={'Apple':'label'})\n",
    "df.head()\n",
    "print(len(df))"
   ]
  },
  {
   "cell_type": "code",
   "execution_count": 4,
   "metadata": {},
   "outputs": [
    {
     "name": "stdout",
     "output_type": "stream",
     "text": [
      "<class 'pandas.core.frame.DataFrame'>\n",
      "RangeIndex: 521 entries, 0 to 520\n",
      "Data columns (total 5 columns):\n",
      "avgRGB         521 non-null float64\n",
      "area           521 non-null float64\n",
      "perimeter      521 non-null int64\n",
      "no_of_edges    521 non-null int64\n",
      "label          521 non-null object\n",
      "dtypes: float64(2), int64(2), object(1)\n",
      "memory usage: 20.5+ KB\n"
     ]
    }
   ],
   "source": [
    "df.info()"
   ]
  },
  {
   "cell_type": "markdown",
   "metadata": {},
   "source": [
    "### Train-test split"
   ]
  },
  {
   "cell_type": "code",
   "execution_count": 5,
   "metadata": {},
   "outputs": [],
   "source": [
    "def train_test_split(df,test_size):\n",
    "   \n",
    "    if isinstance(test_size,float):\n",
    "        test_size = round(test_size*len(df))\n",
    "\n",
    "    idx = df.index.tolist()\n",
    "    test_index = random.sample(population=idx,k=test_size)\n",
    "\n",
    "    test_df = df.loc[test_index]\n",
    "    train_df = df.drop(test_index)\n",
    "    \n",
    "    return train_df,test_df"
   ]
  },
  {
   "cell_type": "code",
   "execution_count": 6,
   "metadata": {},
   "outputs": [],
   "source": [
    "random.seed(0)\n",
    "train_df,test_df = train_test_split(df,.40)"
   ]
  },
  {
   "cell_type": "code",
   "execution_count": 7,
   "metadata": {},
   "outputs": [
    {
     "data": {
      "text/html": [
       "<div>\n",
       "<style scoped>\n",
       "    .dataframe tbody tr th:only-of-type {\n",
       "        vertical-align: middle;\n",
       "    }\n",
       "\n",
       "    .dataframe tbody tr th {\n",
       "        vertical-align: top;\n",
       "    }\n",
       "\n",
       "    .dataframe thead th {\n",
       "        text-align: right;\n",
       "    }\n",
       "</style>\n",
       "<table border=\"1\" class=\"dataframe\">\n",
       "  <thead>\n",
       "    <tr style=\"text-align: right;\">\n",
       "      <th></th>\n",
       "      <th>avgRGB</th>\n",
       "      <th>area</th>\n",
       "      <th>perimeter</th>\n",
       "      <th>no_of_edges</th>\n",
       "      <th>label</th>\n",
       "    </tr>\n",
       "  </thead>\n",
       "  <tbody>\n",
       "    <tr>\n",
       "      <th>1</th>\n",
       "      <td>142.0</td>\n",
       "      <td>2784.0</td>\n",
       "      <td>205</td>\n",
       "      <td>9</td>\n",
       "      <td>Apple</td>\n",
       "    </tr>\n",
       "    <tr>\n",
       "      <th>2</th>\n",
       "      <td>128.0</td>\n",
       "      <td>2903.5</td>\n",
       "      <td>205</td>\n",
       "      <td>11</td>\n",
       "      <td>Apple</td>\n",
       "    </tr>\n",
       "    <tr>\n",
       "      <th>3</th>\n",
       "      <td>127.0</td>\n",
       "      <td>2940.0</td>\n",
       "      <td>208</td>\n",
       "      <td>12</td>\n",
       "      <td>Apple</td>\n",
       "    </tr>\n",
       "    <tr>\n",
       "      <th>4</th>\n",
       "      <td>126.0</td>\n",
       "      <td>2934.0</td>\n",
       "      <td>208</td>\n",
       "      <td>13</td>\n",
       "      <td>Apple</td>\n",
       "    </tr>\n",
       "    <tr>\n",
       "      <th>5</th>\n",
       "      <td>126.0</td>\n",
       "      <td>2908.5</td>\n",
       "      <td>207</td>\n",
       "      <td>12</td>\n",
       "      <td>Apple</td>\n",
       "    </tr>\n",
       "  </tbody>\n",
       "</table>\n",
       "</div>"
      ],
      "text/plain": [
       "   avgRGB    area  perimeter  no_of_edges  label\n",
       "1   142.0  2784.0        205            9  Apple\n",
       "2   128.0  2903.5        205           11  Apple\n",
       "3   127.0  2940.0        208           12  Apple\n",
       "4   126.0  2934.0        208           13  Apple\n",
       "5   126.0  2908.5        207           12  Apple"
      ]
     },
     "execution_count": 7,
     "metadata": {},
     "output_type": "execute_result"
    }
   ],
   "source": [
    "train_df.head()"
   ]
  },
  {
   "cell_type": "code",
   "execution_count": 8,
   "metadata": {},
   "outputs": [
    {
     "data": {
      "text/html": [
       "<div>\n",
       "<style scoped>\n",
       "    .dataframe tbody tr th:only-of-type {\n",
       "        vertical-align: middle;\n",
       "    }\n",
       "\n",
       "    .dataframe tbody tr th {\n",
       "        vertical-align: top;\n",
       "    }\n",
       "\n",
       "    .dataframe thead th {\n",
       "        text-align: right;\n",
       "    }\n",
       "</style>\n",
       "<table border=\"1\" class=\"dataframe\">\n",
       "  <thead>\n",
       "    <tr style=\"text-align: right;\">\n",
       "      <th></th>\n",
       "      <th>avgRGB</th>\n",
       "      <th>area</th>\n",
       "      <th>perimeter</th>\n",
       "      <th>no_of_edges</th>\n",
       "      <th>label</th>\n",
       "    </tr>\n",
       "  </thead>\n",
       "  <tbody>\n",
       "    <tr>\n",
       "      <th>394</th>\n",
       "      <td>131.0</td>\n",
       "      <td>2273.5</td>\n",
       "      <td>186</td>\n",
       "      <td>12</td>\n",
       "      <td>Avocado</td>\n",
       "    </tr>\n",
       "    <tr>\n",
       "      <th>430</th>\n",
       "      <td>143.0</td>\n",
       "      <td>2529.5</td>\n",
       "      <td>192</td>\n",
       "      <td>12</td>\n",
       "      <td>Mango</td>\n",
       "    </tr>\n",
       "    <tr>\n",
       "      <th>41</th>\n",
       "      <td>145.0</td>\n",
       "      <td>2530.0</td>\n",
       "      <td>205</td>\n",
       "      <td>14</td>\n",
       "      <td>Apple</td>\n",
       "    </tr>\n",
       "    <tr>\n",
       "      <th>265</th>\n",
       "      <td>133.0</td>\n",
       "      <td>2930.0</td>\n",
       "      <td>204</td>\n",
       "      <td>14</td>\n",
       "      <td>Pear</td>\n",
       "    </tr>\n",
       "    <tr>\n",
       "      <th>497</th>\n",
       "      <td>148.0</td>\n",
       "      <td>2442.5</td>\n",
       "      <td>194</td>\n",
       "      <td>14</td>\n",
       "      <td>Mango</td>\n",
       "    </tr>\n",
       "  </tbody>\n",
       "</table>\n",
       "</div>"
      ],
      "text/plain": [
       "     avgRGB    area  perimeter  no_of_edges    label\n",
       "394   131.0  2273.5        186           12  Avocado\n",
       "430   143.0  2529.5        192           12    Mango\n",
       "41    145.0  2530.0        205           14    Apple\n",
       "265   133.0  2930.0        204           14     Pear\n",
       "497   148.0  2442.5        194           14    Mango"
      ]
     },
     "execution_count": 8,
     "metadata": {},
     "output_type": "execute_result"
    }
   ],
   "source": [
    "test_df.head()"
   ]
  },
  {
   "cell_type": "markdown",
   "metadata": {},
   "source": [
    "## Helper Functions"
   ]
  },
  {
   "cell_type": "markdown",
   "metadata": {},
   "source": [
    "### Data purity"
   ]
  },
  {
   "cell_type": "code",
   "execution_count": 9,
   "metadata": {},
   "outputs": [
    {
     "data": {
      "text/plain": [
       "array([[142.0, 2784.0, 205, 9, 'Apple'],\n",
       "       [128.0, 2903.5, 205, 11, 'Apple'],\n",
       "       [127.0, 2940.0, 208, 12, 'Apple'],\n",
       "       ...,\n",
       "       [138.0, 2594.5, 193, 12, 'Mango'],\n",
       "       [143.0, 2537.5, 193, 12, 'Mango'],\n",
       "       [138.0, 2734.0, 197, 13, 'Mango']], dtype=object)"
      ]
     },
     "execution_count": 9,
     "metadata": {},
     "output_type": "execute_result"
    }
   ],
   "source": [
    "data = train_df.values\n",
    "data"
   ]
  },
  {
   "cell_type": "code",
   "execution_count": 10,
   "metadata": {},
   "outputs": [],
   "source": [
    "def check_purity(data):\n",
    "    label_column = data[:,-1]\n",
    "    unique_class = np.unique(label_column)\n",
    "\n",
    "    if(len(unique_class) == 1):\n",
    "        return True\n",
    "    else:\n",
    "        return False"
   ]
  },
  {
   "cell_type": "markdown",
   "metadata": {},
   "source": [
    "### Classification"
   ]
  },
  {
   "cell_type": "code",
   "execution_count": 11,
   "metadata": {},
   "outputs": [],
   "source": [
    "def classify(data):\n",
    "    label_column = data[:,-1]\n",
    "    unique_classes,counts = np.unique(label_column,return_counts=True)\n",
    "\n",
    "    idx = counts.argmax()\n",
    "    classification = unique_classes[idx]\n",
    "    \n",
    "    return classification"
   ]
  },
  {
   "cell_type": "code",
   "execution_count": 12,
   "metadata": {},
   "outputs": [],
   "source": [
    "# classify(train_df[train_df.area>2784.0].values)"
   ]
  },
  {
   "cell_type": "markdown",
   "metadata": {},
   "source": [
    "### Potential split"
   ]
  },
  {
   "cell_type": "code",
   "execution_count": 13,
   "metadata": {},
   "outputs": [],
   "source": [
    "def get_potential_split(data):\n",
    "    \n",
    "    potential_splits = {}\n",
    "    columns = data.shape[1]\n",
    "    \n",
    "    for col in range(columns-1):\n",
    "        potential_splits[col] = []\n",
    "        values = data[:,col]\n",
    "        unique_values = np.unique(values)\n",
    "        \n",
    "        for i in range(1,len(unique_values)):\n",
    "            cur_value = unique_values[i]\n",
    "            prev_value = unique_values[i-1]\n",
    "            potential_split = (cur_value+prev_value)/2\n",
    "            potential_splits[col].append(potential_split)\n",
    "            \n",
    "    return potential_splits\n",
    "                       "
   ]
  },
  {
   "cell_type": "code",
   "execution_count": 14,
   "metadata": {},
   "outputs": [],
   "source": [
    "# potential_splits = get_potential_split(train_df.values)"
   ]
  },
  {
   "cell_type": "code",
   "execution_count": 15,
   "metadata": {
    "scrolled": true
   },
   "outputs": [],
   "source": [
    "# sns.lmplot(data=train_df,x='avgRGB',y='no_of_edges',hue='label',\n",
    "#            fit_reg=False)\n",
    "\n",
    "# # plt.vlines(x=potential_splits[2],ymin=1,ymax=17)"
   ]
  },
  {
   "cell_type": "markdown",
   "metadata": {},
   "source": [
    "### Split data"
   ]
  },
  {
   "cell_type": "code",
   "execution_count": 16,
   "metadata": {},
   "outputs": [],
   "source": [
    "def split_data(data,split_column,split_value):\n",
    "    \n",
    "    split_column_values = data[:,split_column]\n",
    "\n",
    "    data_below = data[split_column_values <= split_value]\n",
    "    data_above = data[split_column_values > split_value]\n",
    "    \n",
    "    return data_below,data_above\n"
   ]
  },
  {
   "cell_type": "code",
   "execution_count": 17,
   "metadata": {},
   "outputs": [],
   "source": [
    "# split_column = 3\n",
    "# split_value = 0.5"
   ]
  },
  {
   "cell_type": "code",
   "execution_count": 18,
   "metadata": {},
   "outputs": [],
   "source": [
    "# data_below,data_above = split_data(data,split_column,split_value)"
   ]
  },
  {
   "cell_type": "code",
   "execution_count": 19,
   "metadata": {},
   "outputs": [],
   "source": [
    "# plotting_df = pd.DataFrame(data_above,columns=df.columns)\n",
    "\n",
    "# sns.lmplot(data=plotting_df,x = 'no_of_edges',y='avgRGB',fit_reg=False)\n",
    "# # plt.vlines(x=split_value,ymin=1,ymax=230)\n"
   ]
  },
  {
   "cell_type": "markdown",
   "metadata": {},
   "source": [
    "### Lowest overall entropy"
   ]
  },
  {
   "cell_type": "code",
   "execution_count": 20,
   "metadata": {},
   "outputs": [],
   "source": [
    "def calculate_entropy(data):\n",
    "    \n",
    "    label_column = data[:,-1]\n",
    "\n",
    "    _,counts = np.unique(label_column,return_counts = True)\n",
    "    probabilities = counts/counts.sum()\n",
    "    entropy = sum(probabilities * -np.log2(probabilities))\n",
    "    \n",
    "    return entropy\n"
   ]
  },
  {
   "cell_type": "code",
   "execution_count": 21,
   "metadata": {},
   "outputs": [],
   "source": [
    "def get_overall_entropy(data_below,data_above):\n",
    "    \n",
    "    n_data_points = len(data_below) + len(data_above)\n",
    "\n",
    "    p_data_below = len(data_below)/n_data_points\n",
    "    p_data_above = len(data_above)/n_data_points\n",
    "\n",
    "    overall_entropy = (p_data_below * calculate_entropy(data_below)\n",
    "                       + p_data_above * calculate_entropy(data_above))\n",
    "    \n",
    "    return overall_entropy"
   ]
  },
  {
   "cell_type": "code",
   "execution_count": 22,
   "metadata": {},
   "outputs": [],
   "source": [
    "def determine_best_split(data,potential_splits):\n",
    "    \n",
    "    overall_entropy = 9999\n",
    "\n",
    "    for idx in potential_splits:\n",
    "        for value in potential_splits[idx]:\n",
    "            data_below,data_above = split_data(data,split_column=idx,split_value=value)\n",
    "            current_overall_entropy = get_overall_entropy(data_below,data_above)\n",
    "\n",
    "            if current_overall_entropy <= overall_entropy:\n",
    "                overall_entropy = current_overall_entropy\n",
    "                best_split_column = idx\n",
    "                best_split_value = value\n",
    "                \n",
    "    return best_split_column,best_split_value"
   ]
  },
  {
   "cell_type": "code",
   "execution_count": null,
   "metadata": {},
   "outputs": [],
   "source": []
  },
  {
   "cell_type": "markdown",
   "metadata": {},
   "source": [
    "### Decision tree algorithm "
   ]
  },
  {
   "cell_type": "markdown",
   "metadata": {},
   "source": [
    "sub_tree = {question:[yes_answer,no_answer]}"
   ]
  },
  {
   "cell_type": "code",
   "execution_count": 37,
   "metadata": {},
   "outputs": [],
   "source": [
    "def decision_tree(df,counter = 0,min_samples=2,max_depth=5):\n",
    "    if counter == 0:\n",
    "        data = df.values\n",
    "    else:\n",
    "        data = df\n",
    "    \n",
    "    if (check_purity(data)) or (len(data) < min_samples) or (counter == max_depth):\n",
    "        classification = classify(data)\n",
    "        \n",
    "        return classification\n",
    "    else:\n",
    "        counter+=1\n",
    "        potential_splits = get_potential_split(data)\n",
    "        split_column,split_value = determine_best_split(data,potential_splits)\n",
    "        data_below,data_above = split_data(data,split_column,split_value)\n",
    "        \n",
    "        column_name = column_header[split_column]\n",
    "        question = \"{} <= {}\".format(column_name,split_value)\n",
    "        sub_tree = {question:[]}\n",
    "        \n",
    "        yes_answer = decision_tree(data_below,counter,min_samples,max_depth)\n",
    "        no_answer = decision_tree(data_above,counter,min_samples,max_depth)\n",
    "        \n",
    "        if yes_answer == no_answer:\n",
    "            sub_tree = yes_answer\n",
    "        else:\n",
    "            sub_tree[question].append(yes_answer)\n",
    "            sub_tree[question].append(no_answer)\n",
    "        \n",
    "        return sub_tree"
   ]
  },
  {
   "cell_type": "code",
   "execution_count": 38,
   "metadata": {},
   "outputs": [
    {
     "name": "stdout",
     "output_type": "stream",
     "text": [
      "{'avgRGB <= 155.5': [{'avgRGB <= 122.0': [{'area <= 2826.25': [{'avgRGB <= 115.5': ['Avocado',\n",
      "                                                                                    'Pomegranate']},\n",
      "                                                               {'avgRGB <= 99.5': [{'perimeter <= 211.0': ['Avocado',\n",
      "                                                                                                           'Pomegranate']},\n",
      "                                                                                   'Pomegranate']}]},\n",
      "                                          {'area <= 2382.25': [{'perimeter <= 196.0': ['Avocado',\n",
      "                                                                                       'Pomegranate']},\n",
      "                                                               {'perimeter <= 201.5': [{'area <= 2708.0': ['Mango',\n",
      "                                                                                                           'Apple']},\n",
      "                                                                                       {'area <= 2957.0': ['Apple',\n",
      "                                                                                                           'Pear']}]}]}]},\n",
      "                     'Pear']}\n"
     ]
    }
   ],
   "source": [
    "column_header = train_df.columns\n",
    "tree = decision_tree(train_df,max_depth = 5)\n",
    "pprint(tree)"
   ]
  },
  {
   "cell_type": "markdown",
   "metadata": {},
   "source": [
    "## Classification"
   ]
  },
  {
   "cell_type": "code",
   "execution_count": 39,
   "metadata": {},
   "outputs": [],
   "source": [
    "def classify_test_data(test_data,tree):\n",
    "    question = list(tree.keys())[0]\n",
    "    feature,operator,value = question.split()\n",
    "    \n",
    "    if test_data[feature] <= float(value):\n",
    "        answer = tree[question][0]\n",
    "    else:\n",
    "        answer = tree[question][1]\n",
    "    \n",
    "    if not isinstance(answer,dict):\n",
    "        return answer\n",
    "    else:\n",
    "        remaining_tree = answer\n",
    "        return classify_test_data(test_data,remaining_tree)\n",
    "    "
   ]
  },
  {
   "cell_type": "code",
   "execution_count": 40,
   "metadata": {},
   "outputs": [
    {
     "data": {
      "text/plain": [
       "avgRGB                    145\n",
       "area                     2530\n",
       "perimeter                 205\n",
       "no_of_edges                14\n",
       "label                   Apple\n",
       "classification          Apple\n",
       "correctly_classified     True\n",
       "Name: 41, dtype: object"
      ]
     },
     "execution_count": 40,
     "metadata": {},
     "output_type": "execute_result"
    }
   ],
   "source": [
    "example = test_df.iloc[2]\n",
    "example"
   ]
  },
  {
   "cell_type": "code",
   "execution_count": 41,
   "metadata": {},
   "outputs": [
    {
     "data": {
      "text/plain": [
       "'Apple'"
      ]
     },
     "execution_count": 41,
     "metadata": {},
     "output_type": "execute_result"
    }
   ],
   "source": [
    "classify_test_data(example,tree)"
   ]
  },
  {
   "cell_type": "markdown",
   "metadata": {},
   "source": [
    "## Accuracy"
   ]
  },
  {
   "cell_type": "code",
   "execution_count": 42,
   "metadata": {},
   "outputs": [],
   "source": [
    "def find_accuracy(df,tree):\n",
    "    \n",
    "    df[\"classification\"] = df.apply(classify_test_data,\n",
    "                               axis = 1,args=(tree,))\n",
    "    df['correctly_classified'] = df.classification == df.label\n",
    "\n",
    "    accuracy = df.correctly_classified.mean()\n",
    "    \n",
    "    return accuracy"
   ]
  },
  {
   "cell_type": "code",
   "execution_count": 73,
   "metadata": {},
   "outputs": [
    {
     "data": {
      "text/plain": [
       "0.9615384615384616"
      ]
     },
     "execution_count": 73,
     "metadata": {},
     "output_type": "execute_result"
    }
   ],
   "source": [
    "\n",
    "train_df,test_df = train_test_split(df,.20)\n",
    "tree = decision_tree(train_df,max_depth = 10)\n",
    "find_accuracy(test_df,tree)\n"
   ]
  },
  {
   "cell_type": "code",
   "execution_count": 74,
   "metadata": {},
   "outputs": [
    {
     "data": {
      "text/html": [
       "<div>\n",
       "<style scoped>\n",
       "    .dataframe tbody tr th:only-of-type {\n",
       "        vertical-align: middle;\n",
       "    }\n",
       "\n",
       "    .dataframe tbody tr th {\n",
       "        vertical-align: top;\n",
       "    }\n",
       "\n",
       "    .dataframe thead th {\n",
       "        text-align: right;\n",
       "    }\n",
       "</style>\n",
       "<table border=\"1\" class=\"dataframe\">\n",
       "  <thead>\n",
       "    <tr style=\"text-align: right;\">\n",
       "      <th></th>\n",
       "      <th>avgRGB</th>\n",
       "      <th>area</th>\n",
       "      <th>perimeter</th>\n",
       "      <th>no_of_edges</th>\n",
       "      <th>label</th>\n",
       "      <th>classification</th>\n",
       "      <th>correctly_classified</th>\n",
       "    </tr>\n",
       "  </thead>\n",
       "  <tbody>\n",
       "    <tr>\n",
       "      <th>226</th>\n",
       "      <td>173.0</td>\n",
       "      <td>2238.0</td>\n",
       "      <td>190</td>\n",
       "      <td>10</td>\n",
       "      <td>Pear</td>\n",
       "      <td>Pear</td>\n",
       "      <td>True</td>\n",
       "    </tr>\n",
       "    <tr>\n",
       "      <th>187</th>\n",
       "      <td>177.0</td>\n",
       "      <td>2327.5</td>\n",
       "      <td>192</td>\n",
       "      <td>13</td>\n",
       "      <td>Pear</td>\n",
       "      <td>Pear</td>\n",
       "      <td>True</td>\n",
       "    </tr>\n",
       "    <tr>\n",
       "      <th>465</th>\n",
       "      <td>141.0</td>\n",
       "      <td>2717.0</td>\n",
       "      <td>203</td>\n",
       "      <td>15</td>\n",
       "      <td>Mango</td>\n",
       "      <td>Mango</td>\n",
       "      <td>True</td>\n",
       "    </tr>\n",
       "    <tr>\n",
       "      <th>477</th>\n",
       "      <td>138.0</td>\n",
       "      <td>2861.5</td>\n",
       "      <td>201</td>\n",
       "      <td>12</td>\n",
       "      <td>Mango</td>\n",
       "      <td>Mango</td>\n",
       "      <td>True</td>\n",
       "    </tr>\n",
       "    <tr>\n",
       "      <th>265</th>\n",
       "      <td>133.0</td>\n",
       "      <td>2930.0</td>\n",
       "      <td>204</td>\n",
       "      <td>14</td>\n",
       "      <td>Pear</td>\n",
       "      <td>Apple</td>\n",
       "      <td>False</td>\n",
       "    </tr>\n",
       "    <tr>\n",
       "      <th>...</th>\n",
       "      <td>...</td>\n",
       "      <td>...</td>\n",
       "      <td>...</td>\n",
       "      <td>...</td>\n",
       "      <td>...</td>\n",
       "      <td>...</td>\n",
       "      <td>...</td>\n",
       "    </tr>\n",
       "    <tr>\n",
       "      <th>396</th>\n",
       "      <td>134.0</td>\n",
       "      <td>2205.0</td>\n",
       "      <td>183</td>\n",
       "      <td>14</td>\n",
       "      <td>Avocado</td>\n",
       "      <td>Avocado</td>\n",
       "      <td>True</td>\n",
       "    </tr>\n",
       "    <tr>\n",
       "      <th>297</th>\n",
       "      <td>175.0</td>\n",
       "      <td>2236.5</td>\n",
       "      <td>189</td>\n",
       "      <td>13</td>\n",
       "      <td>Pear</td>\n",
       "      <td>Pear</td>\n",
       "      <td>True</td>\n",
       "    </tr>\n",
       "    <tr>\n",
       "      <th>498</th>\n",
       "      <td>147.0</td>\n",
       "      <td>2461.0</td>\n",
       "      <td>194</td>\n",
       "      <td>13</td>\n",
       "      <td>Mango</td>\n",
       "      <td>Mango</td>\n",
       "      <td>True</td>\n",
       "    </tr>\n",
       "    <tr>\n",
       "      <th>410</th>\n",
       "      <td>140.0</td>\n",
       "      <td>2089.0</td>\n",
       "      <td>177</td>\n",
       "      <td>12</td>\n",
       "      <td>Avocado</td>\n",
       "      <td>Avocado</td>\n",
       "      <td>True</td>\n",
       "    </tr>\n",
       "    <tr>\n",
       "      <th>34</th>\n",
       "      <td>144.0</td>\n",
       "      <td>2647.0</td>\n",
       "      <td>209</td>\n",
       "      <td>13</td>\n",
       "      <td>Apple</td>\n",
       "      <td>Apple</td>\n",
       "      <td>True</td>\n",
       "    </tr>\n",
       "  </tbody>\n",
       "</table>\n",
       "<p>104 rows × 7 columns</p>\n",
       "</div>"
      ],
      "text/plain": [
       "     avgRGB    area  perimeter  no_of_edges    label classification  \\\n",
       "226   173.0  2238.0        190           10     Pear           Pear   \n",
       "187   177.0  2327.5        192           13     Pear           Pear   \n",
       "465   141.0  2717.0        203           15    Mango          Mango   \n",
       "477   138.0  2861.5        201           12    Mango          Mango   \n",
       "265   133.0  2930.0        204           14     Pear          Apple   \n",
       "..      ...     ...        ...          ...      ...            ...   \n",
       "396   134.0  2205.0        183           14  Avocado        Avocado   \n",
       "297   175.0  2236.5        189           13     Pear           Pear   \n",
       "498   147.0  2461.0        194           13    Mango          Mango   \n",
       "410   140.0  2089.0        177           12  Avocado        Avocado   \n",
       "34    144.0  2647.0        209           13    Apple          Apple   \n",
       "\n",
       "     correctly_classified  \n",
       "226                  True  \n",
       "187                  True  \n",
       "465                  True  \n",
       "477                  True  \n",
       "265                 False  \n",
       "..                    ...  \n",
       "396                  True  \n",
       "297                  True  \n",
       "498                  True  \n",
       "410                  True  \n",
       "34                   True  \n",
       "\n",
       "[104 rows x 7 columns]"
      ]
     },
     "execution_count": 74,
     "metadata": {},
     "output_type": "execute_result"
    }
   ],
   "source": [
    "test_df\n"
   ]
  },
  {
   "cell_type": "code",
   "execution_count": null,
   "metadata": {},
   "outputs": [],
   "source": []
  },
  {
   "cell_type": "code",
   "execution_count": null,
   "metadata": {},
   "outputs": [],
   "source": []
  }
 ],
 "metadata": {
  "kernelspec": {
   "display_name": "Python 3",
   "language": "python",
   "name": "python3"
  },
  "language_info": {
   "codemirror_mode": {
    "name": "ipython",
    "version": 3
   },
   "file_extension": ".py",
   "mimetype": "text/x-python",
   "name": "python",
   "nbconvert_exporter": "python",
   "pygments_lexer": "ipython3",
   "version": "3.6.6"
  }
 },
 "nbformat": 4,
 "nbformat_minor": 4
}
