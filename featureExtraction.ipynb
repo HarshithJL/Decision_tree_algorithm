{
 "cells": [
  {
   "cell_type": "code",
   "execution_count": 99,
   "metadata": {},
   "outputs": [],
   "source": [
    "import pandas as pd\n",
    "import numpy as np\n",
    "import matplotlib.pyplot as plt\n",
    "import os\n",
    "import cv2"
   ]
  },
  {
   "cell_type": "code",
   "execution_count": 100,
   "metadata": {},
   "outputs": [],
   "source": [
    "resize_x = 64\n",
    "resize_y = 64"
   ]
  },
  {
   "cell_type": "code",
   "execution_count": 101,
   "metadata": {},
   "outputs": [],
   "source": [
    "classes = ['Apple','Pomegranate','Pear','Avocado','Mango']\n",
    "features = {}\n",
    "column_names = ['avgRGB','area','perimeter','no_of_edges','label']"
   ]
  },
  {
   "cell_type": "code",
   "execution_count": 102,
   "metadata": {},
   "outputs": [],
   "source": [
    "for i in column_names:\n",
    "    features[i] = []"
   ]
  },
  {
   "cell_type": "code",
   "execution_count": 103,
   "metadata": {},
   "outputs": [],
   "source": [
    "def get_avg_rgb(img):\n",
    "    feature = np.zeros((resize_x,resize_y))\n",
    "\n",
    "    for i in range(resize_x):\n",
    "        for j in range(resize_y):\n",
    "            feature[i][j] = (int(img[i,j,0])+int(img[i,j,1])+int(img[i,j,2]))/3\n",
    "    \n",
    "    feature = round(np.mean(np.reshape(feature,(img.shape[0]*img.shape[1]))))\n",
    "    \n",
    "    return feature"
   ]
  },
  {
   "cell_type": "code",
   "execution_count": 104,
   "metadata": {},
   "outputs": [],
   "source": [
    "def get_area_perimeter_edges(resized_img):\n",
    "    gray = cv2.cvtColor(resized_img,cv2.COLOR_BGR2GRAY)\n",
    "    thresh = cv2.threshold(gray,240,255,cv2.THRESH_BINARY_INV+cv2.THRESH_OTSU)[1]\n",
    "    # cv2.imshow(\"Mask\", thresh)\n",
    "    # cv2.waitKey(0)\n",
    "    # cv2.destroyAllWindows()\n",
    "#     height = img.shape[0]\n",
    "#     width = img.shape[1]\n",
    "#     print(height,width)\n",
    "    # area = count/(width*height)\n",
    "    cnts = cv2.findContours(thresh, cv2.RETR_LIST, cv2.CHAIN_APPROX_SIMPLE)[-2]\n",
    "    for c in cnts:\n",
    "        if cv2.contourArea(c) > 100:\n",
    "            perimeter = round(cv2.arcLength(c, True))\n",
    "            area = cv2.contourArea(c)\n",
    "            epsilon = 0.01*perimeter\n",
    "            approx = cv2.approxPolyDP(c,epsilon,True)\n",
    "#             cv2.drawContours(resized_img, [approx], -1, (0, 0, 255), 3)\n",
    "#             cv2.imshow(\"Mask\",resized_img)\n",
    "#             cv2.waitKey(0)\n",
    "#             cv2.destroyAllWindows()\n",
    "            edges = len(approx)\n",
    "    return area,perimeter,edges"
   ]
  },
  {
   "cell_type": "code",
   "execution_count": 109,
   "metadata": {},
   "outputs": [],
   "source": [
    "for i in classes:\n",
    "    for f in os.listdir('C:/Users/LENOVO/harshith/Projects/ML/Neural net project/Train'+'/'+i):\n",
    "        img = cv2.imread('C:/Users/LENOVO/harshith/Projects/ML/Neural net project/Train'+'/'+i+'/'+f)\n",
    "        resized_img = cv2.resize(img,(resize_x,resize_y))\n",
    "        rgb = get_avg_rgb(resized_img)\n",
    "        area,perimeter,noOfEdges = get_area_perimeter_edges(resized_img)\n",
    "        features['avgRGB'].append(rgb)\n",
    "        features['area'].append(area)\n",
    "        features['perimeter'].append(perimeter)\n",
    "        features['no_of_edges'].append(noOfEdges)\n",
    "        features['label'].append(i)"
   ]
  },
  {
   "cell_type": "code",
   "execution_count": 111,
   "metadata": {},
   "outputs": [],
   "source": [
    "df = pd.DataFrame(features)\n",
    "df.to_csv('features.csv',index=False)"
   ]
  }
 ],
 "metadata": {
  "kernelspec": {
   "display_name": "Python 3",
   "language": "python",
   "name": "python3"
  },
  "language_info": {
   "codemirror_mode": {
    "name": "ipython",
    "version": 3
   },
   "file_extension": ".py",
   "mimetype": "text/x-python",
   "name": "python",
   "nbconvert_exporter": "python",
   "pygments_lexer": "ipython3",
   "version": "3.6.6"
  }
 },
 "nbformat": 4,
 "nbformat_minor": 4
}
